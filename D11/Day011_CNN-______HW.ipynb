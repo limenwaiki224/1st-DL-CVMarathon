{
 "cells": [
  {
   "cell_type": "markdown",
   "metadata": {
    "colab_type": "text",
    "id": "f6jN0Y8x4gNA"
   },
   "source": [
    "## 『本次練習內容』\n",
    "#### 運用Keras搭建簡單的Dense Layer與 Convolution2D Layer，使用相同Neurons數量，計算總參數量相差多少。\n"
   ]
  },
  {
   "cell_type": "markdown",
   "metadata": {},
   "source": [
    "## 『本次練習目的』\n",
    "  #### 本次練習主要是要讓各位同學們了解CNN與FC層的參數使用量差異\n",
    "  #### Convolution2D有許多參數可以設置，之後章節會細談\n",
    "  #### 不熟Keras的學員們也可以藉此了解NN層的不同搭法"
   ]
  },
  {
   "cell_type": "code",
   "execution_count": 1,
   "metadata": {
    "colab": {},
    "colab_type": "code",
    "id": "SAFr7hM24gNB"
   },
   "outputs": [
    {
     "name": "stderr",
     "output_type": "stream",
     "text": [
      "Using TensorFlow backend.\n"
     ]
    }
   ],
   "source": [
    "from keras.models import Sequential\n",
    "from keras.layers import Convolution2D\n",
    "from keras.layers import Input, Dense\n",
    "from keras.models import Model"
   ]
  },
  {
   "cell_type": "code",
   "execution_count": 4,
   "metadata": {},
   "outputs": [
    {
     "name": "stdout",
     "output_type": "stream",
     "text": [
      "Model: \"sequential_3\"\n",
      "_________________________________________________________________\n",
      "Layer (type)                 Output Shape              Param #   \n",
      "=================================================================\n",
      "conv2d_2 (Conv2D)            (None, 26, 26, 32)        320       \n",
      "=================================================================\n",
      "Total params: 320\n",
      "Trainable params: 320\n",
      "Non-trainable params: 0\n",
      "_________________________________________________________________\n",
      "None\n",
      "Model: \"model_2\"\n",
      "_________________________________________________________________\n",
      "Layer (type)                 Output Shape              Param #   \n",
      "=================================================================\n",
      "input_2 (InputLayer)         (None, 784)               0         \n",
      "_________________________________________________________________\n",
      "dense_2 (Dense)              (None, 288)               226080    \n",
      "=================================================================\n",
      "Total params: 226,080\n",
      "Trainable params: 226,080\n",
      "Non-trainable params: 0\n",
      "_________________________________________________________________\n",
      "None\n"
     ]
    },
    {
     "name": "stderr",
     "output_type": "stream",
     "text": [
      "D:\\Users\\ASUS\\Anaconda3\\lib\\site-packages\\ipykernel_launcher.py:9: UserWarning: Update your `Conv2D` call to the Keras 2 API: `Conv2D(32, (3, 3), input_shape=(28, 28, 1...)`\n",
      "  if __name__ == '__main__':\n"
     ]
    },
    {
     "data": {
      "text/plain": [
       "'理解輸出Total params為何==226080'"
      ]
     },
     "execution_count": 4,
     "metadata": {},
     "output_type": "execute_result"
    }
   ],
   "source": [
    "##輸入照片尺寸==28*28*1\n",
    "##都用一層，288個神經元\n",
    "\n",
    "##建造一個一層的CNN層\n",
    "classifier=Sequential()\n",
    "\n",
    "##Kernel size 3*3，用32張，輸入大小28*28*1\n",
    "#classifier.add(Convolution2D())'''32張Kernel，大小為3*3，輸入尺寸為28*28*1'''\n",
    "#classifier.add(Convolution2D(32,3,3,input_shape=(28,28,1)))\n",
    "classifier.add(Convolution2D(filters=32, kernel_size=(3,3), input_shape=(28, 28, 1)))  #建一個\n",
    "##看看model結構\n",
    "print(classifier.summary())\n",
    "'''理解輸出Total params為何==320'''\n",
    "#((kernel_size)*filters)+(bias) , ((3*3)*32)+32 =320\n",
    "'''\n",
    "Convolution2D层\n",
    "二维卷积层对二维输入进行滑动窗卷积，当使用该层作为第一层时，应提供input_shape参数。\n",
    "例如input_shape = (3,128,128)代表128*128的彩色RGB图像\n",
    "'''\n",
    "\n",
    "\n",
    "##建造一個一層的FC層\n",
    "classifier=Sequential()\n",
    "##輸入為28*28*1攤平==784  #輸入層\n",
    "#inputs = Input()'''輸入尺寸為28*28*1'''\n",
    "inputs = Input(shape=(784,))  \n",
    "'''\n",
    "Input(shape=None,batch_shape=None,name=None,dtype=K.floatx(),sparse=False,tensor=None)\n",
    "\n",
    "Input():用来实例化一个keras张量\n",
    "shape: 形状元组（整型），不包括batch size。for instance, shape=(32,) 表示了预期的输入将是一批32维的向量。\n",
    "\n",
    "batch_shape: 形状元组（整型），包括了batch size。for instance, batch_shape=(10,32)表示了预期的输入将是10个32维向量的批次。\n",
    "\n",
    "name: 对于该层是可选的名字字符串。在一个模型中是独一无二的（同一个名字不能复用2次）。如果name没有被特指将会自动生成。\n",
    "\n",
    "dtype: 预期的输入数据类型\n",
    "\n",
    "sparse: 特定的布尔值，占位符是否为sparse\n",
    "\n",
    "tensor: 可选的存在的向量包装到Input层，如果设置了，该层将不会创建一个占位张量。\n",
    "'''\n",
    "##CNN中用了(3*3*1)*32個神經元，我們這邊也用相同神經元數量\n",
    "#x=Dense()(inputs)'''使用288個神經元'''\n",
    "x=Dense(units=288)(inputs)  #Dense為神經網路層的一種  隱藏層\n",
    "model = Model(inputs=inputs, outputs=x)  #建立模型\n",
    "##看看model結構\n",
    "print(model.summary())\n",
    "'''理解輸出Total params為何==226080'''\n",
    "#(input*output)+(bias) , (784*288)+288 = 226080 param\n",
    "##大家可以自己變換設定看看參數變化"
   ]
  },
  {
   "cell_type": "code",
   "execution_count": 7,
   "metadata": {},
   "outputs": [
    {
     "name": "stdout",
     "output_type": "stream",
     "text": [
      "Model: \"sequential_9\"\n",
      "_________________________________________________________________\n",
      "Layer (type)                 Output Shape              Param #   \n",
      "=================================================================\n",
      "conv2d_5 (Conv2D)            (None, 20, 20, 64)        2368      \n",
      "=================================================================\n",
      "Total params: 2,368\n",
      "Trainable params: 2,368\n",
      "Non-trainable params: 0\n",
      "_________________________________________________________________\n",
      "None\n",
      "Model: \"model_5\"\n",
      "_________________________________________________________________\n",
      "Layer (type)                 Output Shape              Param #   \n",
      "=================================================================\n",
      "input_5 (InputLayer)         (None, 625)               0         \n",
      "_________________________________________________________________\n",
      "dense_5 (Dense)              (None, 2368)              1482368   \n",
      "=================================================================\n",
      "Total params: 1,482,368\n",
      "Trainable params: 1,482,368\n",
      "Non-trainable params: 0\n",
      "_________________________________________________________________\n",
      "None\n"
     ]
    }
   ],
   "source": [
    "\n",
    "##建造一個一層的CNN層\n",
    "classifier = Sequential()\n",
    "\n",
    "##Kernel size 6*6，用64張，輸入大小25*25*1\n",
    "classifier.add(Convolution2D(filters=64, kernel_size=(6, 6), input_shape=(25, 25, 1)))\n",
    "# Params = (Kernel_size_H * Kernel_size_W + 1) * Kernel numbers = (6 * 6) * 64+64 = 2368\n",
    "##看看model結構\n",
    "print(classifier.summary())\n",
    "\n",
    "##建造一個一層的FC層\n",
    "classifier = Sequential()\n",
    "##輸入為25*25*1攤平==625\n",
    "inputs = Input(shape=(625,)) # 輸入尺寸為25*25*1\n",
    "\n",
    "x = Dense(units=2368)(inputs) #使用2368個神經元\n",
    "model = Model(inputs=inputs, outputs=x) # Params = Inputs * Outputs + Outputs (bias) = 625 * 2368 + 2368 = 1482368\n",
    "##看看model結構\n",
    "print(model.summary()) # 理解輸出Total params為何==1482368\n",
    "\n",
    "##大家可以自己變換設定看看參數變化"
   ]
  },
  {
   "cell_type": "code",
   "execution_count": null,
   "metadata": {},
   "outputs": [],
   "source": []
  }
 ],
 "metadata": {
  "colab": {
   "name": "CNN-計算參數量.ipynb",
   "provenance": [],
   "version": "0.3.2"
  },
  "kernelspec": {
   "display_name": "Python 3",
   "language": "python",
   "name": "python3"
  },
  "language_info": {
   "codemirror_mode": {
    "name": "ipython",
    "version": 3
   },
   "file_extension": ".py",
   "mimetype": "text/x-python",
   "name": "python",
   "nbconvert_exporter": "python",
   "pygments_lexer": "ipython3",
   "version": "3.7.3"
  }
 },
 "nbformat": 4,
 "nbformat_minor": 1
}
